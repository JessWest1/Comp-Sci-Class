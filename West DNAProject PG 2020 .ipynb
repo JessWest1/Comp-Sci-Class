{
 "cells": [
  {
   "cell_type": "markdown",
   "metadata": {},
   "source": [
    "###### Write the build_complement(), which takes in a strand of DNA as a string and returns its complement  as  a string.  Your  function’s  output  should  be  case-insensitive;  that  is buildComplement(‘ATG’) and buildComplement(‘aTg’) should return the  same  result.  \n",
    "###### Your  function  should not allow a user to enter any invalid character only characters function accepts are: ‘a’, ‘A’, ‘g’, ‘G’, ‘t’, ‘T’, ‘c’, ‘C’ \n"
   ]
  },
  {
   "cell_type": "code",
   "execution_count": 2,
   "metadata": {},
   "outputs": [],
   "source": [
    "def buildComplement(strand): #Checks to see if the DNA strand is valid \n",
    "    strand = strand.lower()\n",
    "    holder = ''\n",
    "    for i in strand:\n",
    "        if(i == 'a'):\n",
    "            holder += 't'\n",
    "        elif(i == 't'):\n",
    "            holder += 'a'\n",
    "        elif(i == 'c'):\n",
    "            holder += 'g'\n",
    "        elif(i == 'g'):\n",
    "            holder += 'c'\n",
    "    holder = holder.upper()\n",
    "    return holder\n",
    "            \n",
    "    "
   ]
  },
  {
   "cell_type": "markdown",
   "metadata": {},
   "source": [
    "![DNA strand](DNA1.png)\n",
    "######   write a program that prompts the user for one DNA strand and then prints out the complementary strand.  \n",
    "\n",
    "![](DNA3.png)\n"
   ]
  },
  {
   "cell_type": "code",
   "execution_count": 3,
   "metadata": {},
   "outputs": [],
   "source": [
    "def checker(strand):\n",
    "    strand = strand.lower()\n",
    "    for i in strand: #iterating through strand \n",
    "        if(i != 'a' and i != 'g' and i != 't' and i != 'c'):\n",
    "            return False \n",
    "    return True"
   ]
  },
  {
   "cell_type": "code",
   "execution_count": 4,
   "metadata": {},
   "outputs": [],
   "source": [
    "#get user input  -  sample input : ATGCAAG  sample output : TACGTTC\n",
    "##  call the buildComplement method above \n",
    "def complement():\n",
    "    strand = str(input(\"Enter a DNA strand with only the letters A, G, T, C: \")) \n",
    "    if(checker(strand)):\n",
    "            print('The complement is: ', buildComplement(strand)) #printing complement by calling buildComplement method\n",
    "    \n",
    "            \n",
    "\n",
    "    \n",
    "  \n",
    "    \n",
    "\n",
    "\n",
    "    "
   ]
  },
  {
   "cell_type": "code",
   "execution_count": 8,
   "metadata": {},
   "outputs": [
    {
     "name": "stdout",
     "output_type": "stream",
     "text": [
      "Enter a DNA strand with only the letters A, G, T, C: AT\n",
      "The complement is:  TA\n"
     ]
    }
   ],
   "source": [
    "complement()"
   ]
  },
  {
   "cell_type": "markdown",
   "metadata": {},
   "source": [
    "##### Write a program that prompts users for a DNA strand that they want to search through and a DNA target strand that they want to search for. Both of these strands  are  represented  as strings.\n",
    "Your program should return the sub-strand of the  search  strand  that  has  the  most  matching nucleotides with the match strand.\n",
    "\n",
    "We  define  “matching  nucleotides”  as  when  the  two  strands  have  the  same nucleotide at the same index (i.e. if the second nucleotide in both strands is A, then that  counts  as  one  matching  nucleotide).\n",
    "\n",
    "The program then outputs the closest match to the target strand  - which is 'similar'\n",
    "\n",
    "![](DNA2.png)"
   ]
  },
  {
   "cell_type": "code",
   "execution_count": 7,
   "metadata": {},
   "outputs": [
    {
     "name": "stdout",
     "output_type": "stream",
     "text": [
      "Input a DNA Strand\n",
      "AAGTCG\n",
      "Input a substrand to be searched for\n",
      "GT\n",
      "2\n"
     ]
    }
   ],
   "source": [
    "    #This function takes in two DNA sequences, and calculates\n",
    "    #the number of spots at which the two sequences have the same\n",
    "    #base pairs.\n",
    "def search_sequence(dnaToMatch, DNAStrand):\n",
    "        smallerLen = len(dnaToMatch)\n",
    "        largerLen = len(DNAStrand)\n",
    "        counter = 0 \n",
    "        mostInRow = 0 \n",
    "        index = 0    \n",
    "        for i in range((largerLen - smallerLen) +1):\n",
    "            for x in range(smallerLen):\n",
    "                if(dnaToMatch[x] == DNAStrand[x+i]):\n",
    "                    counter+=1\n",
    "        return counter\n",
    "print('Input a DNA Strand')\n",
    "strand = input()\n",
    "print('Input a substrand to be searched for')\n",
    "subStrand = input()\n",
    "print(search_sequence(subStrand, strand))\n",
    "    \n",
    "    "
   ]
  },
  {
   "cell_type": "markdown",
   "metadata": {},
   "source": [
    "#####    This function takes in two DNA strands, one to search through and one for which you are trying to find a match. The function returns the closest match to the target sequence in the search sequence.\n",
    "   \n",
    "   findBestSubstrand(\"TCATA\",\"ATGCCTGATA\")\n",
    "    'TGATA'\n",
    "    \n",
    "    findBestSubstrand(\"\", \"ATGCCTGATA\")"
   ]
  },
  {
   "cell_type": "code",
   "execution_count": 1,
   "metadata": {},
   "outputs": [
    {
     "name": "stdout",
     "output_type": "stream",
     "text": [
      "CTGATA\n"
     ]
    }
   ],
   "source": [
    "def findBestSubstrand(dnaToMatch, dnaToSearch):\n",
    "    smallerLen = len(dnaToMatch) #assigning a variable to the length of strand to match \n",
    "    largerLen = len(dnaToSearch) #assigning a variable to the length of the strand to search \n",
    "    counter = 0 \n",
    "    mostInRow = 0 \n",
    "    index = 0 \n",
    "    \n",
    "    for i in range ((largerLen - smallerLen)+1): #ensuring the the returned strand is the same size of the strand to match\n",
    "        for x in range (smallerLen): #searching through the strand to match \n",
    "            if(dnaToMatch[x] == dnaToSearch[x+1]): #if the letter matches each other... \n",
    "                counter+=1 #add one to counter \n",
    "            if(counter>=mostInRow): #if this is the most times the letter are the same consecutivly, \n",
    "                mostInRow = counter #assign cunter to the largest in the row\n",
    "                index = i #put the starting index at i\n",
    "            counter = 0 #reset the counter\n",
    "            \n",
    "    return dnaToSearch[index:index+smallerLen]\n",
    "\n",
    "print(findBestSubstrand('TCATAA', 'ATGCCTGATA'))"
   ]
  },
  {
   "cell_type": "code",
   "execution_count": null,
   "metadata": {},
   "outputs": [],
   "source": []
  },
  {
   "cell_type": "code",
   "execution_count": null,
   "metadata": {},
   "outputs": [],
   "source": []
  }
 ],
 "metadata": {
  "kernelspec": {
   "display_name": "Python 3",
   "language": "python",
   "name": "python3"
  },
  "language_info": {
   "codemirror_mode": {
    "name": "ipython",
    "version": 3
   },
   "file_extension": ".py",
   "mimetype": "text/x-python",
   "name": "python",
   "nbconvert_exporter": "python",
   "pygments_lexer": "ipython3",
   "version": "3.8.3"
  }
 },
 "nbformat": 4,
 "nbformat_minor": 2
}
