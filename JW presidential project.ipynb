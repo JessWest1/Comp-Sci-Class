{
 "cells": [
  {
   "cell_type": "markdown",
   "metadata": {},
   "source": [
    "### Does Voter Turnout affect the following two columns?\n",
    "#### Chance that the incumbent will win the popular vote (popwin_inc) -and- Chance that the challenger will win the popular vote (popwin_chal)\n",
    "### My Hypothesis is that voter turnout will indeed affect the incumbent and challenger's chances to win the popular vote."
   ]
  },
  {
   "cell_type": "code",
   "execution_count": 1,
   "metadata": {},
   "outputs": [],
   "source": [
    "import pandas as pd\n",
    "import numpy as np\n",
    "import matplotlib.pyplot as plt\n",
    "import seaborn as sns"
   ]
  },
  {
   "cell_type": "code",
   "execution_count": 2,
   "metadata": {},
   "outputs": [
    {
     "data": {
      "text/html": [
       "<div>\n",
       "<style scoped>\n",
       "    .dataframe tbody tr th:only-of-type {\n",
       "        vertical-align: middle;\n",
       "    }\n",
       "\n",
       "    .dataframe tbody tr th {\n",
       "        vertical-align: top;\n",
       "    }\n",
       "\n",
       "    .dataframe thead th {\n",
       "        text-align: right;\n",
       "    }\n",
       "</style>\n",
       "<table border=\"1\" class=\"dataframe\">\n",
       "  <thead>\n",
       "    <tr style=\"text-align: right;\">\n",
       "      <th></th>\n",
       "      <th>cycle</th>\n",
       "      <th>branch</th>\n",
       "      <th>model</th>\n",
       "      <th>modeldate</th>\n",
       "      <th>candidate_inc</th>\n",
       "      <th>candidate_chal</th>\n",
       "      <th>candidate_3rd</th>\n",
       "      <th>ecwin_inc</th>\n",
       "      <th>ecwin_chal</th>\n",
       "      <th>ecwin_3rd</th>\n",
       "      <th>...</th>\n",
       "      <th>nat_voteshare_other_hi</th>\n",
       "      <th>national_voteshare_inc_lo</th>\n",
       "      <th>national_voteshare_chal_lo</th>\n",
       "      <th>national_voteshare_3rd_lo</th>\n",
       "      <th>nat_voteshare_other_lo</th>\n",
       "      <th>national_turnout</th>\n",
       "      <th>national_turnout_hi</th>\n",
       "      <th>national_turnout_lo</th>\n",
       "      <th>timestamp</th>\n",
       "      <th>simulations</th>\n",
       "    </tr>\n",
       "  </thead>\n",
       "  <tbody>\n",
       "    <tr>\n",
       "      <th>0</th>\n",
       "      <td>2020</td>\n",
       "      <td>President</td>\n",
       "      <td>polls-plus</td>\n",
       "      <td>11/3/2020</td>\n",
       "      <td>Trump</td>\n",
       "      <td>Biden</td>\n",
       "      <td>NaN</td>\n",
       "      <td>0.103900</td>\n",
       "      <td>0.891600</td>\n",
       "      <td>NaN</td>\n",
       "      <td>...</td>\n",
       "      <td>1.842986</td>\n",
       "      <td>42.91262</td>\n",
       "      <td>50.87952</td>\n",
       "      <td>NaN</td>\n",
       "      <td>0.724433</td>\n",
       "      <td>157972048.0</td>\n",
       "      <td>168424640.0</td>\n",
       "      <td>147487920.0</td>\n",
       "      <td>00:00:48  3 Nov 2020</td>\n",
       "      <td>40000</td>\n",
       "    </tr>\n",
       "    <tr>\n",
       "      <th>1</th>\n",
       "      <td>2020</td>\n",
       "      <td>President</td>\n",
       "      <td>polls-plus</td>\n",
       "      <td>11/2/2020</td>\n",
       "      <td>Trump</td>\n",
       "      <td>Biden</td>\n",
       "      <td>NaN</td>\n",
       "      <td>0.102675</td>\n",
       "      <td>0.893200</td>\n",
       "      <td>NaN</td>\n",
       "      <td>...</td>\n",
       "      <td>1.842986</td>\n",
       "      <td>42.91348</td>\n",
       "      <td>50.88025</td>\n",
       "      <td>NaN</td>\n",
       "      <td>0.724433</td>\n",
       "      <td>157972048.0</td>\n",
       "      <td>168424640.0</td>\n",
       "      <td>147487920.0</td>\n",
       "      <td>23:45:03  2 Nov 2020</td>\n",
       "      <td>40000</td>\n",
       "    </tr>\n",
       "    <tr>\n",
       "      <th>2</th>\n",
       "      <td>2020</td>\n",
       "      <td>President</td>\n",
       "      <td>polls-plus</td>\n",
       "      <td>11/1/2020</td>\n",
       "      <td>Trump</td>\n",
       "      <td>Biden</td>\n",
       "      <td>NaN</td>\n",
       "      <td>0.102850</td>\n",
       "      <td>0.892825</td>\n",
       "      <td>NaN</td>\n",
       "      <td>...</td>\n",
       "      <td>1.823490</td>\n",
       "      <td>43.03094</td>\n",
       "      <td>50.77527</td>\n",
       "      <td>NaN</td>\n",
       "      <td>0.689592</td>\n",
       "      <td>157737856.0</td>\n",
       "      <td>168190448.0</td>\n",
       "      <td>147253728.0</td>\n",
       "      <td>23:11:03  1 Nov 2020</td>\n",
       "      <td>40000</td>\n",
       "    </tr>\n",
       "    <tr>\n",
       "      <th>3</th>\n",
       "      <td>2020</td>\n",
       "      <td>President</td>\n",
       "      <td>polls-plus</td>\n",
       "      <td>10/31/2020</td>\n",
       "      <td>Trump</td>\n",
       "      <td>Biden</td>\n",
       "      <td>NaN</td>\n",
       "      <td>0.105625</td>\n",
       "      <td>0.888300</td>\n",
       "      <td>NaN</td>\n",
       "      <td>...</td>\n",
       "      <td>1.835479</td>\n",
       "      <td>42.98096</td>\n",
       "      <td>50.74764</td>\n",
       "      <td>NaN</td>\n",
       "      <td>0.689802</td>\n",
       "      <td>158044784.0</td>\n",
       "      <td>168497376.0</td>\n",
       "      <td>147560672.0</td>\n",
       "      <td>22:23:03 31 Oct 2020</td>\n",
       "      <td>40000</td>\n",
       "    </tr>\n",
       "    <tr>\n",
       "      <th>4</th>\n",
       "      <td>2020</td>\n",
       "      <td>President</td>\n",
       "      <td>polls-plus</td>\n",
       "      <td>10/30/2020</td>\n",
       "      <td>Trump</td>\n",
       "      <td>Biden</td>\n",
       "      <td>NaN</td>\n",
       "      <td>0.099625</td>\n",
       "      <td>0.895800</td>\n",
       "      <td>NaN</td>\n",
       "      <td>...</td>\n",
       "      <td>1.847821</td>\n",
       "      <td>42.92510</td>\n",
       "      <td>50.72821</td>\n",
       "      <td>NaN</td>\n",
       "      <td>0.692837</td>\n",
       "      <td>156723120.0</td>\n",
       "      <td>167175712.0</td>\n",
       "      <td>146239008.0</td>\n",
       "      <td>21:34:03 30 Oct 2020</td>\n",
       "      <td>40000</td>\n",
       "    </tr>\n",
       "  </tbody>\n",
       "</table>\n",
       "<p>5 rows × 40 columns</p>\n",
       "</div>"
      ],
      "text/plain": [
       "   cycle     branch       model   modeldate candidate_inc candidate_chal  \\\n",
       "0   2020  President  polls-plus   11/3/2020         Trump          Biden   \n",
       "1   2020  President  polls-plus   11/2/2020         Trump          Biden   \n",
       "2   2020  President  polls-plus   11/1/2020         Trump          Biden   \n",
       "3   2020  President  polls-plus  10/31/2020         Trump          Biden   \n",
       "4   2020  President  polls-plus  10/30/2020         Trump          Biden   \n",
       "\n",
       "   candidate_3rd  ecwin_inc  ecwin_chal  ecwin_3rd  ...  \\\n",
       "0            NaN   0.103900    0.891600        NaN  ...   \n",
       "1            NaN   0.102675    0.893200        NaN  ...   \n",
       "2            NaN   0.102850    0.892825        NaN  ...   \n",
       "3            NaN   0.105625    0.888300        NaN  ...   \n",
       "4            NaN   0.099625    0.895800        NaN  ...   \n",
       "\n",
       "   nat_voteshare_other_hi  national_voteshare_inc_lo  \\\n",
       "0                1.842986                   42.91262   \n",
       "1                1.842986                   42.91348   \n",
       "2                1.823490                   43.03094   \n",
       "3                1.835479                   42.98096   \n",
       "4                1.847821                   42.92510   \n",
       "\n",
       "   national_voteshare_chal_lo  national_voteshare_3rd_lo  \\\n",
       "0                    50.87952                        NaN   \n",
       "1                    50.88025                        NaN   \n",
       "2                    50.77527                        NaN   \n",
       "3                    50.74764                        NaN   \n",
       "4                    50.72821                        NaN   \n",
       "\n",
       "   nat_voteshare_other_lo  national_turnout  national_turnout_hi  \\\n",
       "0                0.724433       157972048.0          168424640.0   \n",
       "1                0.724433       157972048.0          168424640.0   \n",
       "2                0.689592       157737856.0          168190448.0   \n",
       "3                0.689802       158044784.0          168497376.0   \n",
       "4                0.692837       156723120.0          167175712.0   \n",
       "\n",
       "   national_turnout_lo             timestamp  simulations  \n",
       "0          147487920.0  00:00:48  3 Nov 2020        40000  \n",
       "1          147487920.0  23:45:03  2 Nov 2020        40000  \n",
       "2          147253728.0  23:11:03  1 Nov 2020        40000  \n",
       "3          147560672.0  22:23:03 31 Oct 2020        40000  \n",
       "4          146239008.0  21:34:03 30 Oct 2020        40000  \n",
       "\n",
       "[5 rows x 40 columns]"
      ]
     },
     "execution_count": 2,
     "metadata": {},
     "output_type": "execute_result"
    }
   ],
   "source": [
    "df = pd.read_csv('presidential_national_toplines_2020.csv')\n",
    "df.head()"
   ]
  },
  {
   "cell_type": "code",
   "execution_count": 3,
   "metadata": {},
   "outputs": [
    {
     "data": {
      "text/plain": [
       "cycle                           0\n",
       "branch                          0\n",
       "model                           0\n",
       "modeldate                       0\n",
       "candidate_inc                   0\n",
       "candidate_chal                  0\n",
       "candidate_3rd                 156\n",
       "ecwin_inc                       0\n",
       "ecwin_chal                      0\n",
       "ecwin_3rd                     156\n",
       "ec_nomajority                   0\n",
       "popwin_inc                      0\n",
       "popwin_chal                     0\n",
       "popwin_3rd                    156\n",
       "ev_inc                          0\n",
       "ev_chal                         0\n",
       "ev_3rd                        156\n",
       "ev_inc_hi                       0\n",
       "ev_chal_hi                      0\n",
       "ev_3rd_hi                     156\n",
       "ev_inc_lo                       0\n",
       "ev_chal_lo                      0\n",
       "ev_3rd_lo                     156\n",
       "national_voteshare_inc          0\n",
       "national_voteshare_chal         0\n",
       "national_voteshare_3rd        156\n",
       "nat_voteshare_other             0\n",
       "national_voteshare_inc_hi       0\n",
       "national_voteshare_chal_hi      0\n",
       "national_voteshare_3rd_hi     156\n",
       "nat_voteshare_other_hi          0\n",
       "national_voteshare_inc_lo       0\n",
       "national_voteshare_chal_lo      0\n",
       "national_voteshare_3rd_lo     156\n",
       "nat_voteshare_other_lo          0\n",
       "national_turnout               97\n",
       "national_turnout_hi            97\n",
       "national_turnout_lo            97\n",
       "timestamp                       0\n",
       "simulations                     0\n",
       "dtype: int64"
      ]
     },
     "execution_count": 3,
     "metadata": {},
     "output_type": "execute_result"
    }
   ],
   "source": [
    "df.isnull().sum() "
   ]
  },
  {
   "cell_type": "code",
   "execution_count": 4,
   "metadata": {},
   "outputs": [
    {
     "data": {
      "text/plain": [
       "1695"
      ]
     },
     "execution_count": 4,
     "metadata": {},
     "output_type": "execute_result"
    }
   ],
   "source": [
    "x = sum(df.isnull().sum())\n",
    "x"
   ]
  },
  {
   "cell_type": "code",
   "execution_count": 5,
   "metadata": {},
   "outputs": [
    {
     "data": {
      "text/plain": [
       "6240"
      ]
     },
     "execution_count": 5,
     "metadata": {},
     "output_type": "execute_result"
    }
   ],
   "source": [
    "y = df.shape[0]*df.shape[1]\n",
    "y"
   ]
  },
  {
   "cell_type": "code",
   "execution_count": 6,
   "metadata": {},
   "outputs": [
    {
     "data": {
      "text/plain": [
       "27.163461538461537"
      ]
     },
     "execution_count": 6,
     "metadata": {},
     "output_type": "execute_result"
    }
   ],
   "source": [
    "x/y * 100 #percent of data missing"
   ]
  },
  {
   "cell_type": "code",
   "execution_count": 7,
   "metadata": {},
   "outputs": [
    {
     "data": {
      "text/plain": [
       "(156, 40)"
      ]
     },
     "execution_count": 7,
     "metadata": {},
     "output_type": "execute_result"
    }
   ],
   "source": [
    "df.shape"
   ]
  },
  {
   "cell_type": "code",
   "execution_count": 8,
   "metadata": {},
   "outputs": [
    {
     "data": {
      "text/html": [
       "<div>\n",
       "<style scoped>\n",
       "    .dataframe tbody tr th:only-of-type {\n",
       "        vertical-align: middle;\n",
       "    }\n",
       "\n",
       "    .dataframe tbody tr th {\n",
       "        vertical-align: top;\n",
       "    }\n",
       "\n",
       "    .dataframe thead th {\n",
       "        text-align: right;\n",
       "    }\n",
       "</style>\n",
       "<table border=\"1\" class=\"dataframe\">\n",
       "  <thead>\n",
       "    <tr style=\"text-align: right;\">\n",
       "      <th></th>\n",
       "      <th>cycle</th>\n",
       "      <th>branch</th>\n",
       "      <th>model</th>\n",
       "      <th>modeldate</th>\n",
       "      <th>candidate_inc</th>\n",
       "      <th>candidate_chal</th>\n",
       "      <th>ecwin_inc</th>\n",
       "      <th>ecwin_chal</th>\n",
       "      <th>ec_nomajority</th>\n",
       "      <th>popwin_inc</th>\n",
       "      <th>...</th>\n",
       "      <th>national_voteshare_chal_hi</th>\n",
       "      <th>nat_voteshare_other_hi</th>\n",
       "      <th>national_voteshare_inc_lo</th>\n",
       "      <th>national_voteshare_chal_lo</th>\n",
       "      <th>nat_voteshare_other_lo</th>\n",
       "      <th>national_turnout</th>\n",
       "      <th>national_turnout_hi</th>\n",
       "      <th>national_turnout_lo</th>\n",
       "      <th>timestamp</th>\n",
       "      <th>simulations</th>\n",
       "    </tr>\n",
       "  </thead>\n",
       "  <tbody>\n",
       "    <tr>\n",
       "      <th>0</th>\n",
       "      <td>2020</td>\n",
       "      <td>President</td>\n",
       "      <td>polls-plus</td>\n",
       "      <td>11/3/2020</td>\n",
       "      <td>Trump</td>\n",
       "      <td>Biden</td>\n",
       "      <td>0.103900</td>\n",
       "      <td>0.891600</td>\n",
       "      <td>0.004500</td>\n",
       "      <td>0.025700</td>\n",
       "      <td>...</td>\n",
       "      <td>55.83899</td>\n",
       "      <td>1.842986</td>\n",
       "      <td>42.91262</td>\n",
       "      <td>50.87952</td>\n",
       "      <td>0.724433</td>\n",
       "      <td>157972048.0</td>\n",
       "      <td>168424640.0</td>\n",
       "      <td>147487920.0</td>\n",
       "      <td>00:00:48  3 Nov 2020</td>\n",
       "      <td>40000</td>\n",
       "    </tr>\n",
       "    <tr>\n",
       "      <th>1</th>\n",
       "      <td>2020</td>\n",
       "      <td>President</td>\n",
       "      <td>polls-plus</td>\n",
       "      <td>11/2/2020</td>\n",
       "      <td>Trump</td>\n",
       "      <td>Biden</td>\n",
       "      <td>0.102675</td>\n",
       "      <td>0.893200</td>\n",
       "      <td>0.004125</td>\n",
       "      <td>0.025625</td>\n",
       "      <td>...</td>\n",
       "      <td>55.83824</td>\n",
       "      <td>1.842986</td>\n",
       "      <td>42.91348</td>\n",
       "      <td>50.88025</td>\n",
       "      <td>0.724433</td>\n",
       "      <td>157972048.0</td>\n",
       "      <td>168424640.0</td>\n",
       "      <td>147487920.0</td>\n",
       "      <td>23:45:03  2 Nov 2020</td>\n",
       "      <td>40000</td>\n",
       "    </tr>\n",
       "    <tr>\n",
       "      <th>2</th>\n",
       "      <td>2020</td>\n",
       "      <td>President</td>\n",
       "      <td>polls-plus</td>\n",
       "      <td>11/1/2020</td>\n",
       "      <td>Trump</td>\n",
       "      <td>Biden</td>\n",
       "      <td>0.102850</td>\n",
       "      <td>0.892825</td>\n",
       "      <td>0.004325</td>\n",
       "      <td>0.028900</td>\n",
       "      <td>...</td>\n",
       "      <td>55.76475</td>\n",
       "      <td>1.823490</td>\n",
       "      <td>43.03094</td>\n",
       "      <td>50.77527</td>\n",
       "      <td>0.689592</td>\n",
       "      <td>157737856.0</td>\n",
       "      <td>168190448.0</td>\n",
       "      <td>147253728.0</td>\n",
       "      <td>23:11:03  1 Nov 2020</td>\n",
       "      <td>40000</td>\n",
       "    </tr>\n",
       "    <tr>\n",
       "      <th>3</th>\n",
       "      <td>2020</td>\n",
       "      <td>President</td>\n",
       "      <td>polls-plus</td>\n",
       "      <td>10/31/2020</td>\n",
       "      <td>Trump</td>\n",
       "      <td>Biden</td>\n",
       "      <td>0.105625</td>\n",
       "      <td>0.888300</td>\n",
       "      <td>0.006075</td>\n",
       "      <td>0.029525</td>\n",
       "      <td>...</td>\n",
       "      <td>55.80073</td>\n",
       "      <td>1.835479</td>\n",
       "      <td>42.98096</td>\n",
       "      <td>50.74764</td>\n",
       "      <td>0.689802</td>\n",
       "      <td>158044784.0</td>\n",
       "      <td>168497376.0</td>\n",
       "      <td>147560672.0</td>\n",
       "      <td>22:23:03 31 Oct 2020</td>\n",
       "      <td>40000</td>\n",
       "    </tr>\n",
       "    <tr>\n",
       "      <th>4</th>\n",
       "      <td>2020</td>\n",
       "      <td>President</td>\n",
       "      <td>polls-plus</td>\n",
       "      <td>10/30/2020</td>\n",
       "      <td>Trump</td>\n",
       "      <td>Biden</td>\n",
       "      <td>0.099625</td>\n",
       "      <td>0.895800</td>\n",
       "      <td>0.004575</td>\n",
       "      <td>0.030175</td>\n",
       "      <td>...</td>\n",
       "      <td>55.84821</td>\n",
       "      <td>1.847821</td>\n",
       "      <td>42.92510</td>\n",
       "      <td>50.72821</td>\n",
       "      <td>0.692837</td>\n",
       "      <td>156723120.0</td>\n",
       "      <td>167175712.0</td>\n",
       "      <td>146239008.0</td>\n",
       "      <td>21:34:03 30 Oct 2020</td>\n",
       "      <td>40000</td>\n",
       "    </tr>\n",
       "  </tbody>\n",
       "</table>\n",
       "<p>5 rows × 31 columns</p>\n",
       "</div>"
      ],
      "text/plain": [
       "   cycle     branch       model   modeldate candidate_inc candidate_chal  \\\n",
       "0   2020  President  polls-plus   11/3/2020         Trump          Biden   \n",
       "1   2020  President  polls-plus   11/2/2020         Trump          Biden   \n",
       "2   2020  President  polls-plus   11/1/2020         Trump          Biden   \n",
       "3   2020  President  polls-plus  10/31/2020         Trump          Biden   \n",
       "4   2020  President  polls-plus  10/30/2020         Trump          Biden   \n",
       "\n",
       "   ecwin_inc  ecwin_chal  ec_nomajority  popwin_inc  ...  \\\n",
       "0   0.103900    0.891600       0.004500    0.025700  ...   \n",
       "1   0.102675    0.893200       0.004125    0.025625  ...   \n",
       "2   0.102850    0.892825       0.004325    0.028900  ...   \n",
       "3   0.105625    0.888300       0.006075    0.029525  ...   \n",
       "4   0.099625    0.895800       0.004575    0.030175  ...   \n",
       "\n",
       "   national_voteshare_chal_hi  nat_voteshare_other_hi  \\\n",
       "0                    55.83899                1.842986   \n",
       "1                    55.83824                1.842986   \n",
       "2                    55.76475                1.823490   \n",
       "3                    55.80073                1.835479   \n",
       "4                    55.84821                1.847821   \n",
       "\n",
       "   national_voteshare_inc_lo  national_voteshare_chal_lo  \\\n",
       "0                   42.91262                    50.87952   \n",
       "1                   42.91348                    50.88025   \n",
       "2                   43.03094                    50.77527   \n",
       "3                   42.98096                    50.74764   \n",
       "4                   42.92510                    50.72821   \n",
       "\n",
       "   nat_voteshare_other_lo  national_turnout  national_turnout_hi  \\\n",
       "0                0.724433       157972048.0          168424640.0   \n",
       "1                0.724433       157972048.0          168424640.0   \n",
       "2                0.689592       157737856.0          168190448.0   \n",
       "3                0.689802       158044784.0          168497376.0   \n",
       "4                0.692837       156723120.0          167175712.0   \n",
       "\n",
       "   national_turnout_lo             timestamp  simulations  \n",
       "0          147487920.0  00:00:48  3 Nov 2020        40000  \n",
       "1          147487920.0  23:45:03  2 Nov 2020        40000  \n",
       "2          147253728.0  23:11:03  1 Nov 2020        40000  \n",
       "3          147560672.0  22:23:03 31 Oct 2020        40000  \n",
       "4          146239008.0  21:34:03 30 Oct 2020        40000  \n",
       "\n",
       "[5 rows x 31 columns]"
      ]
     },
     "execution_count": 8,
     "metadata": {},
     "output_type": "execute_result"
    }
   ],
   "source": [
    "df.drop(['candidate_3rd','ecwin_3rd','popwin_3rd','ev_3rd','ev_3rd_hi','ev_3rd_lo','national_voteshare_3rd','national_voteshare_3rd_hi','national_voteshare_3rd_lo'], axis = 1, inplace = True)\n",
    "df.head()"
   ]
  },
  {
   "cell_type": "code",
   "execution_count": 9,
   "metadata": {},
   "outputs": [
    {
     "data": {
      "text/plain": [
       "Index(['cycle', 'branch', 'model', 'modeldate', 'candidate_inc',\n",
       "       'candidate_chal', 'ecwin_inc', 'ecwin_chal', 'ec_nomajority',\n",
       "       'popwin_inc', 'popwin_chal', 'ev_inc', 'ev_chal', 'ev_inc_hi',\n",
       "       'ev_chal_hi', 'ev_inc_lo', 'ev_chal_lo', 'national_voteshare_inc',\n",
       "       'national_voteshare_chal', 'nat_voteshare_other',\n",
       "       'national_voteshare_inc_hi', 'national_voteshare_chal_hi',\n",
       "       'nat_voteshare_other_hi', 'national_voteshare_inc_lo',\n",
       "       'national_voteshare_chal_lo', 'nat_voteshare_other_lo',\n",
       "       'national_turnout', 'national_turnout_hi', 'national_turnout_lo',\n",
       "       'timestamp', 'simulations'],\n",
       "      dtype='object')"
      ]
     },
     "execution_count": 9,
     "metadata": {},
     "output_type": "execute_result"
    }
   ],
   "source": [
    "df.columns"
   ]
  },
  {
   "cell_type": "code",
   "execution_count": 10,
   "metadata": {},
   "outputs": [
    {
     "data": {
      "text/plain": [
       "1.0"
      ]
     },
     "execution_count": 10,
     "metadata": {},
     "output_type": "execute_result"
    }
   ],
   "source": [
    "df.loc[0]['popwin_inc']+df.loc[0]['popwin_chal']"
   ]
  },
  {
   "cell_type": "code",
   "execution_count": 11,
   "metadata": {},
   "outputs": [
    {
     "data": {
      "text/plain": [
       "Text(0.5, 1.0, '% Chance that the challenger will win the popular vote')"
      ]
     },
     "execution_count": 11,
     "metadata": {},
     "output_type": "execute_result"
    },
    {
     "data": {
      "image/png": "[encoded data removed]",
      "text/plain": [
       "<Figure size 1224x504 with 2 Axes>"
      ]
     },
     "metadata": {
      "needs_background": "light"
     },
     "output_type": "display_data"
    }
   ],
   "source": [
    "fig = plt.figure(figsize = (17,7))\n",
    "axis1 = fig.add_subplot(1,2,1)\n",
    "axis2 = fig.add_subplot(1,2,2)\n",
    "\n",
    "\n",
    "fig.suptitle('Incumbent vs Challenger Win Chance Percentage', fontsize = 25)\n",
    "\n",
    "axis1.plot(df['popwin_inc'], color = 'red')\n",
    "axis1.set_xlabel('Day')\n",
    "axis1.set_ylabel('Win Chance %')\n",
    "axis1.set_title('% Chance that the incumbent will win the popular vote')\n",
    "\n",
    "axis2.plot(df['popwin_chal'])\n",
    "axis2.set_xlabel('Day')\n",
    "axis2.set_ylabel('Win Chance %')\n",
    "axis2.set_title('% Chance that the challenger will win the popular vote')\n"
   ]
  },
  {
   "cell_type": "code",
   "execution_count": 17,
   "metadata": {},
   "outputs": [
    {
     "data": {
      "text/plain": [
       "Text(0.5, 1.0, 'National Turnout Upper vs Lower Bounds')"
      ]
     },
     "execution_count": 17,
     "metadata": {},
     "output_type": "execute_result"
    },
    {
     "data": {
      "image/png": "[encoded data removed]",
      "text/plain": [
       "<Figure size 1224x504 with 2 Axes>"
      ]
     },
     "metadata": {
      "needs_background": "light"
     },
     "output_type": "display_data"
    }
   ],
   "source": [
    "fig = plt.figure(figsize = (17,7))\n",
    "axis1 = fig.add_subplot(1,2,1)\n",
    "axis2 = fig.add_subplot(1,2,2)\n",
    "\n",
    "fig.suptitle('Incumbent vs Challenger Win Chance Percentage', fontsize = 25)\n",
    "\n",
    "axis1.plot(df['national_turnout'])\n",
    "axis1.set_xlabel('Day')\n",
    "axis1.set_ylabel('National Turnout')\n",
    "axis1.set_title('National Turnout')\n",
    "\n",
    "axis2.plot(df['national_turnout_lo'])\n",
    "\n",
    "\n",
    "axis2.plot(df['national_turnout_hi'])\n",
    "axis2.set_xlabel('Day')\n",
    "axis2.set_ylabel('National Turnout')\n",
    "axis2.set_title('National Turnout Upper vs Lower Bounds')"
   ]
  },
  {
   "cell_type": "markdown",
   "metadata": {},
   "source": [
    "### Purely by visualizing the graphs, it appears that as the national turnout grows smaller, the incumbents chances of winning the popular vote increases.\n",
    "#### This does not truly mean they are related, but at first glance it appears that they at least could be"
   ]
  },
  {
   "cell_type": "code",
   "execution_count": null,
   "metadata": {},
   "outputs": [],
   "source": []
  },
  {
   "cell_type": "code",
   "execution_count": null,
   "metadata": {},
   "outputs": [],
   "source": []
  }
 ],
 "metadata": {
  "kernelspec": {
   "display_name": "Python 3",
   "language": "python",
   "name": "python3"
  },
  "language_info": {
   "codemirror_mode": {
    "name": "ipython",
    "version": 3
   },
   "file_extension": ".py",
   "mimetype": "text/x-python",
   "name": "python",
   "nbconvert_exporter": "python",
   "pygments_lexer": "ipython3",
   "version": "3.8.3"
  }
 },
 "nbformat": 4,
 "nbformat_minor": 4
}
