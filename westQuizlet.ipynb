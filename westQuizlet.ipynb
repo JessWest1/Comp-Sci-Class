{
 "cells": [
  {
   "cell_type": "code",
   "execution_count": 1,
   "metadata": {},
   "outputs": [],
   "source": [
    "import random\n",
    "\n",
    "TOTAL_PROBLEMS = 4 # you can change this number \n",
    "MINNUMBER = 0\n",
    "MAXNUMBER = 40"
   ]
  },
  {
   "cell_type": "code",
   "execution_count": 2,
   "metadata": {},
   "outputs": [
    {
     "name": "stdout",
     "output_type": "stream",
     "text": [
      "Enter the number of the type of arithmetic problem you want to practice.   1) Addition   2) Subtraction   3) Multiplication   4) Division   5) Remainder   -1) To end \n"
     ]
    }
   ],
   "source": [
    " def userChoice():\n",
    "    \n",
    "    \"\"\"\n",
    "    This function returns the prompt that the user is presented with to choose\n",
    "    what kind of problem they want to practice.\n",
    "    \"\"\"\n",
    "    return 'Enter the number of the type of arithmetic problem you want to practice.\\\n",
    "    1) Addition\\\n",
    "    2) Subtraction\\\n",
    "    3) Multiplication\\\n",
    "    4) Division\\\n",
    "    5) Remainder\\\n",
    "    -1) To end '\n",
    "    \n",
    "print(userChoice())"
   ]
  },
  {
   "cell_type": "code",
   "execution_count": 3,
   "metadata": {},
   "outputs": [
    {
     "data": {
      "text/plain": [
       "32"
      ]
     },
     "execution_count": 3,
     "metadata": {},
     "output_type": "execute_result"
    }
   ],
   "source": [
    "def generateRandomNum():\n",
    "    \"\"\"\n",
    "    This function generates a random number to act as input for an\n",
    "    arithmetic problem. \n",
    "    \"\"\"\n",
    "    return random.randint(MINNUMBER, MAXNUMBER)\n",
    "generateRandomNum()"
   ]
  },
  {
   "cell_type": "code",
   "execution_count": 4,
   "metadata": {},
   "outputs": [],
   "source": [
    "def createArithmeticproblems(a, b, operator):\n",
    "    \"\"\"\n",
    "    This function takes in two numbers and an operator and returns a string\n",
    "    that is built from these three pieces of information\n",
    "    \"\"\"\n",
    "    return \"What is \" + str(a) + \" \" + operator + \" \" + str(b) + \"?\"\n"
   ]
  },
  {
   "cell_type": "code",
   "execution_count": 5,
   "metadata": {},
   "outputs": [],
   "source": [
    "def gradeUserResponse(userAnswer, correctAnswer):\n",
    "    \"\"\"\n",
    "    This function takes in two answers, one of which is provided by\n",
    "    the user and one of which is the correct answer. It generates an\n",
    "    appropriate response depending on whether or not the user answers\n",
    "    matches the correct answer.\n",
    "    \"\"\"\n",
    "    if userAnswer == correctAnswer:\n",
    "        print(\"Correct, great work!\")\n",
    "        return True\n",
    "    else:\n",
    "        print(\"Incorrect. The expected answer was \" + str(correctAnswer))\n",
    "        return False\n"
   ]
  },
  {
   "cell_type": "code",
   "execution_count": 6,
   "metadata": {},
   "outputs": [],
   "source": [
    "def addition(a, b):\n",
    "    \n",
    "    return a + b\n"
   ]
  },
  {
   "cell_type": "code",
   "execution_count": 7,
   "metadata": {},
   "outputs": [],
   "source": [
    "def subtraction(a, b):\n",
    "   \n",
    "    return a - b\n"
   ]
  },
  {
   "cell_type": "code",
   "execution_count": 8,
   "metadata": {},
   "outputs": [],
   "source": [
    "def multiplication(a,b):\n",
    "    \n",
    "    return a*b"
   ]
  },
  {
   "cell_type": "code",
   "execution_count": 9,
   "metadata": {},
   "outputs": [],
   "source": [
    "def division(a,b):\n",
    "    print('the will give you the answer with the decimal cut')\n",
    "    return a//b"
   ]
  },
  {
   "cell_type": "code",
   "execution_count": 10,
   "metadata": {},
   "outputs": [],
   "source": [
    "def remainder(a,b):\n",
    "\n",
    "    return a%b"
   ]
  },
  {
   "cell_type": "code",
   "execution_count": 11,
   "metadata": {},
   "outputs": [],
   "source": [
    "# add SENTINEL\n",
    "#ability to REPEATEDLY play TILL USER DECLINES\n",
    "\n",
    "def main():\n",
    "    \"\"\"\n",
    "     It currently only supports two problem types (addition\n",
    "    and subtraction) and keeps track of how many problems the user gets correct.\n",
    "    \"\"\"\n",
    "    numOfproblemsDone = 0\n",
    "    numCorrect = 0 \n",
    "    while numOfproblemsDone < TOTAL_PROBLEMS:\n",
    "        \n",
    "            \n",
    "        print( userChoice())\n",
    "        choice = int(input(\"Your choice: \"))\n",
    "        a = generateRandomNum()\n",
    "        b = generateRandomNum()\n",
    "        if choice == 1:\n",
    "            print(createArithmeticproblems(a, b, \"+\"))\n",
    "            user_answer = int(input(\"Your answer: \"))\n",
    "            true_answer = addition(a, b)\n",
    "            correct = gradeUserResponse(user_answer, true_answer)\n",
    "            if correct:\n",
    "                numCorrect += 1\n",
    "                print(\"You got \" + str(numCorrect) + \" problems correct!\")\n",
    "            numOfproblemsDone += 1\n",
    "       \n",
    "        elif choice == 2:\n",
    "            print(createArithmeticproblems(a, b, \"-\"))\n",
    "            user_answer = int(input(\"Your answer: \"))\n",
    "            true_answer = subtraction(a, b)\n",
    "            correct = gradeUserResponse(user_answer, true_answer)\n",
    "            if correct:\n",
    "                numCorrect += 1\n",
    "                print(\"You got \" + str(numCorrect) + \" problems correct!\")\n",
    "            numOfproblemsDone += 1\n",
    "        \n",
    "        elif choice == -1:\n",
    "            break\n",
    "        \n",
    "        elif choice == 3:\n",
    "            print(createArithmeticproblems(a, b, \"*\"))\n",
    "            user_answer = int(input(\"Your answer: \"))\n",
    "            true_answer = multiplication(a, b)\n",
    "            correct = gradeUserResponse(user_answer, true_answer)\n",
    "            if correct:\n",
    "                numCorrect += 1\n",
    "                print(\"You got \" + str(numCorrect) + \" problems correct!\")\n",
    "            numOfproblemsDone += 1\n",
    "       \n",
    "        elif choice == 4:\n",
    "            print(createArithmeticproblems(a, b, \"/\"))\n",
    "            user_answer = int(input(\"Your answer: \"))\n",
    "            true_answer = division(a, b)\n",
    "            correct = gradeUserResponse(user_answer, true_answer)\n",
    "            if correct:\n",
    "                numCorrect += 1\n",
    "                print(\"You got \" + str(numCorrect) + \" problems correct!\")\n",
    "            numOfproblemsDone += 1\n",
    "            \n",
    "        elif choice == 5:\n",
    "            print(createArithmeticproblems(a, b, \"%\"))\n",
    "            user_answer = int(input(\"Your answer: \"))\n",
    "            true_answer = remainder(a, b)\n",
    "            correct = gradeUserResponse(user_answer, true_answer)\n",
    "            if correct:\n",
    "                numCorrect += 1\n",
    "                print(\"You got \" + str(numCorrect) + \" problems correct!\")\n",
    "            numOfproblemsDone += 1\n",
    "        \n",
    "        else:\n",
    "            print(\"Sorry, you didn't choose a valid option!\")\n",
    "            \n",
    "        \n",
    "    \n"
   ]
  },
  {
   "cell_type": "code",
   "execution_count": null,
   "metadata": {},
   "outputs": [
    {
     "name": "stdout",
     "output_type": "stream",
     "text": [
      "Enter the number of the type of arithmetic problem you want to practice.   1) Addition   2) Subtraction   3) Multiplication   4) Division   5) Remainder   -1) To end \n",
      "Your choice: 1\n",
      "What is 14 + 0?\n",
      "Your answer: 14\n",
      "Correct, great work!\n",
      "You got 1 problems correct!\n",
      "Enter the number of the type of arithmetic problem you want to practice.   1) Addition   2) Subtraction   3) Multiplication   4) Division   5) Remainder   -1) To end \n"
     ]
    }
   ],
   "source": [
    "main()"
   ]
  },
  {
   "cell_type": "code",
   "execution_count": null,
   "metadata": {},
   "outputs": [],
   "source": []
  },
  {
   "cell_type": "code",
   "execution_count": null,
   "metadata": {},
   "outputs": [],
   "source": []
  },
  {
   "cell_type": "code",
   "execution_count": null,
   "metadata": {},
   "outputs": [],
   "source": []
  }
 ],
 "metadata": {
  "kernelspec": {
   "display_name": "Python 3",
   "language": "python",
   "name": "python3"
  },
  "language_info": {
   "codemirror_mode": {
    "name": "ipython",
    "version": 3
   },
   "file_extension": ".py",
   "mimetype": "text/x-python",
   "name": "python",
   "nbconvert_exporter": "python",
   "pygments_lexer": "ipython3",
   "version": "3.8.3"
  }
 },
 "nbformat": 4,
 "nbformat_minor": 2
}
